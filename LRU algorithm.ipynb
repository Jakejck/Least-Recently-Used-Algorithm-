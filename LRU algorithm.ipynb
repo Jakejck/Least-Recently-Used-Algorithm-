{
 "cells": [
  {
   "cell_type": "markdown",
   "metadata": {},
   "source": [
    "# Problem 1 explanation :"
   ]
  },
  {
   "cell_type": "markdown",
   "metadata": {},
   "source": [
    "### Design"
   ]
  },
  {
   "cell_type": "markdown",
   "metadata": {},
   "source": [
    "Used data structure: **DoublyLinkedlist and Dictionary**.\n",
    "    \n",
    "Because the LRU cache need to delete the least used data while the datas in cache are over capacity, we build the doublylinkedlist to track the least used data.\n",
    "\n",
    "In the logic of the doublylinkedlist, the least linked list will be the tail one. So if the datas are over capacity, we will delete the tail one."
   ]
  },
  {
   "cell_type": "markdown",
   "metadata": {},
   "source": [
    "### Time complexities"
   ]
  },
  {
   "cell_type": "markdown",
   "metadata": {},
   "source": [
    "we used the dictionary to meet the purpose that the time of complexity is O(1) when looking up the value in the LRU cache."
   ]
  },
  {
   "cell_type": "markdown",
   "metadata": {},
   "source": [
    "### Space complexities "
   ]
  },
  {
   "cell_type": "markdown",
   "metadata": {},
   "source": [
    "Space complexities is O(2n) that 1n is stored for dictionary and 1n is stored for doublylinkedlist."
   ]
  }
 ],
 "metadata": {
  "kernelspec": {
   "display_name": "Python 3",
   "language": "python",
   "name": "python3"
  },
  "language_info": {
   "codemirror_mode": {
    "name": "ipython",
    "version": 3
   },
   "file_extension": ".py",
   "mimetype": "text/x-python",
   "name": "python",
   "nbconvert_exporter": "python",
   "pygments_lexer": "ipython3",
   "version": "3.7.3"
  }
 },
 "nbformat": 4,
 "nbformat_minor": 2
}
